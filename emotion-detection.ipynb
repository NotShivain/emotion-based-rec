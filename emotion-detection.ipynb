{
 "cells": [
  {
   "cell_type": "code",
   "execution_count": 18,
   "metadata": {},
   "outputs": [],
   "source": [
    "import pandas as pd\n",
    "from keras.models import Sequential\n",
    "from keras.layers import Dense, Conv2D, Flatten, MaxPooling2D, Dropout, Flatten\n",
    "from keras.optimizers import Adam\n",
    "from keras.preprocessing.image import ImageDataGenerator\n"
   ]
  },
  {
   "cell_type": "code",
   "execution_count": 19,
   "metadata": {},
   "outputs": [],
   "source": [
    "train_data_gen = ImageDataGenerator(rescale=1./255)\n",
    "validation_data_gen = ImageDataGenerator(rescale=1./255)"
   ]
  },
  {
   "cell_type": "code",
   "execution_count": 20,
   "metadata": {},
   "outputs": [
    {
     "name": "stdout",
     "output_type": "stream",
     "text": [
      "Found 28709 images belonging to 7 classes.\n"
     ]
    }
   ],
   "source": [
    "train_generator = train_data_gen.flow_from_directory(\n",
    "    \"archive/train\",\n",
    "    target_size = (48,48),\n",
    "    batch_size = 64,\n",
    "    color_mode = 'grayscale',\n",
    "    class_mode = 'categorical'\n",
    ")\n"
   ]
  },
  {
   "cell_type": "code",
   "execution_count": 21,
   "metadata": {},
   "outputs": [
    {
     "name": "stdout",
     "output_type": "stream",
     "text": [
      "Found 7178 images belonging to 7 classes.\n"
     ]
    }
   ],
   "source": [
    "validation_generator = validation_data_gen.flow_from_directory(\n",
    "    \"archive/test\",\n",
    "    target_size = (48,48),\n",
    "    batch_size = 64,\n",
    "    color_mode = 'grayscale',\n",
    "    class_mode = 'categorical'\n",
    ")"
   ]
  },
  {
   "cell_type": "code",
   "execution_count": 22,
   "metadata": {},
   "outputs": [],
   "source": [
    "emotion_model = Sequential()\n",
    "\n",
    "emotion_model.add(Conv2D(32, kernel_size=(3,3), activation='relu', input_shape=(48,48,1)))\n",
    "emotion_model.add(Conv2D(64, kernel_size=(3,3), activation='relu'))\n",
    "emotion_model.add(MaxPooling2D(pool_size=(2,2)))\n",
    "emotion_model.add(Dropout(0.25))\n",
    "\n",
    "emotion_model.add(Conv2D(128, kernel_size=(3,3), activation='relu'))\n",
    "emotion_model.add(MaxPooling2D(pool_size=(2,2)))\n",
    "emotion_model.add(Conv2D(128, kernel_size=(3,3), activation='relu'))\n",
    "emotion_model.add(MaxPooling2D(pool_size=(2,2)))\n",
    "emotion_model.add(Dropout(0.25))\n",
    "\n",
    "emotion_model.add(Flatten())\n",
    "emotion_model.add(Dense(1024, activation='relu'))\n",
    "emotion_model.add(Dropout(0.5))\n",
    "emotion_model.add(Dense(7, activation='softmax'))\n",
    "\n",
    "emotion_model.compile(loss='categorical_crossentropy', optimizer=Adam(learning_rate=0.001), metrics=['accuracy'])"
   ]
  },
  {
   "cell_type": "code",
   "execution_count": 23,
   "metadata": {},
   "outputs": [
    {
     "name": "stdout",
     "output_type": "stream",
     "text": [
      "Epoch 1/30\n"
     ]
    },
    {
     "name": "stderr",
     "output_type": "stream",
     "text": [
      "C:\\Users\\shiva\\AppData\\Local\\Temp\\ipykernel_18580\\3497884782.py:1: UserWarning: `Model.fit_generator` is deprecated and will be removed in a future version. Please use `Model.fit`, which supports generators.\n",
      "  emotion_model_info = emotion_model.fit_generator(\n"
     ]
    },
    {
     "name": "stdout",
     "output_type": "stream",
     "text": [
      "448/448 [==============================] - 230s 508ms/step - loss: 1.7468 - accuracy: 0.2896 - val_loss: 1.5853 - val_accuracy: 0.3936\n",
      "Epoch 2/30\n",
      "448/448 [==============================] - 212s 473ms/step - loss: 1.4965 - accuracy: 0.4198 - val_loss: 1.3919 - val_accuracy: 0.4619\n",
      "Epoch 3/30\n",
      "448/448 [==============================] - 216s 482ms/step - loss: 1.3326 - accuracy: 0.4899 - val_loss: 1.2524 - val_accuracy: 0.5205\n",
      "Epoch 4/30\n",
      "448/448 [==============================] - 215s 479ms/step - loss: 1.2386 - accuracy: 0.5259 - val_loss: 1.1935 - val_accuracy: 0.5428\n",
      "Epoch 5/30\n",
      "448/448 [==============================] - 215s 481ms/step - loss: 1.1845 - accuracy: 0.5480 - val_loss: 1.1584 - val_accuracy: 0.5532\n",
      "Epoch 6/30\n",
      "448/448 [==============================] - 215s 480ms/step - loss: 1.1318 - accuracy: 0.5688 - val_loss: 1.1225 - val_accuracy: 0.5731\n",
      "Epoch 7/30\n",
      "448/448 [==============================] - 219s 490ms/step - loss: 1.0899 - accuracy: 0.5877 - val_loss: 1.1124 - val_accuracy: 0.5801\n",
      "Epoch 8/30\n",
      "448/448 [==============================] - 217s 485ms/step - loss: 1.0554 - accuracy: 0.6006 - val_loss: 1.0850 - val_accuracy: 0.5795\n",
      "Epoch 9/30\n",
      "448/448 [==============================] - 215s 481ms/step - loss: 1.0139 - accuracy: 0.6192 - val_loss: 1.0902 - val_accuracy: 0.5812\n",
      "Epoch 10/30\n",
      "448/448 [==============================] - 216s 482ms/step - loss: 0.9729 - accuracy: 0.6338 - val_loss: 1.0739 - val_accuracy: 0.5931\n",
      "Epoch 11/30\n",
      "448/448 [==============================] - 216s 483ms/step - loss: 0.9462 - accuracy: 0.6435 - val_loss: 1.0734 - val_accuracy: 0.5979\n",
      "Epoch 12/30\n",
      "448/448 [==============================] - 217s 484ms/step - loss: 0.9078 - accuracy: 0.6583 - val_loss: 1.0690 - val_accuracy: 0.5951\n",
      "Epoch 13/30\n",
      "448/448 [==============================] - 221s 494ms/step - loss: 0.8785 - accuracy: 0.6690 - val_loss: 1.0530 - val_accuracy: 0.6067\n",
      "Epoch 14/30\n",
      "448/448 [==============================] - 217s 484ms/step - loss: 0.8498 - accuracy: 0.6807 - val_loss: 1.0585 - val_accuracy: 0.6060\n",
      "Epoch 15/30\n",
      "448/448 [==============================] - 219s 488ms/step - loss: 0.8199 - accuracy: 0.6918 - val_loss: 1.0711 - val_accuracy: 0.6045\n",
      "Epoch 16/30\n",
      "448/448 [==============================] - 217s 484ms/step - loss: 0.7967 - accuracy: 0.7051 - val_loss: 1.0530 - val_accuracy: 0.6122\n",
      "Epoch 17/30\n",
      "448/448 [==============================] - 221s 494ms/step - loss: 0.7594 - accuracy: 0.7161 - val_loss: 1.0665 - val_accuracy: 0.6119\n",
      "Epoch 18/30\n",
      "448/448 [==============================] - 220s 491ms/step - loss: 0.7358 - accuracy: 0.7266 - val_loss: 1.0969 - val_accuracy: 0.6092\n",
      "Epoch 19/30\n",
      "448/448 [==============================] - 221s 493ms/step - loss: 0.7121 - accuracy: 0.7380 - val_loss: 1.0806 - val_accuracy: 0.6099\n",
      "Epoch 20/30\n",
      "448/448 [==============================] - 215s 479ms/step - loss: 0.6925 - accuracy: 0.7424 - val_loss: 1.0872 - val_accuracy: 0.6198\n",
      "Epoch 21/30\n",
      "448/448 [==============================] - 216s 482ms/step - loss: 0.6737 - accuracy: 0.7475 - val_loss: 1.0865 - val_accuracy: 0.6164\n",
      "Epoch 22/30\n",
      "448/448 [==============================] - 214s 478ms/step - loss: 0.6543 - accuracy: 0.7563 - val_loss: 1.0888 - val_accuracy: 0.6240\n",
      "Epoch 23/30\n",
      "448/448 [==============================] - 215s 480ms/step - loss: 0.6344 - accuracy: 0.7635 - val_loss: 1.0829 - val_accuracy: 0.6208\n",
      "Epoch 24/30\n",
      "448/448 [==============================] - 215s 481ms/step - loss: 0.6160 - accuracy: 0.7716 - val_loss: 1.1038 - val_accuracy: 0.6166\n",
      "Epoch 25/30\n",
      "448/448 [==============================] - 216s 482ms/step - loss: 0.6026 - accuracy: 0.7774 - val_loss: 1.0829 - val_accuracy: 0.6197\n",
      "Epoch 26/30\n",
      "448/448 [==============================] - 214s 478ms/step - loss: 0.5871 - accuracy: 0.7833 - val_loss: 1.0942 - val_accuracy: 0.6184\n",
      "Epoch 27/30\n",
      "448/448 [==============================] - 213s 476ms/step - loss: 0.5723 - accuracy: 0.7891 - val_loss: 1.1240 - val_accuracy: 0.6203\n",
      "Epoch 28/30\n",
      "448/448 [==============================] - 214s 477ms/step - loss: 0.5621 - accuracy: 0.7941 - val_loss: 1.0985 - val_accuracy: 0.6204\n",
      "Epoch 29/30\n",
      "448/448 [==============================] - 214s 477ms/step - loss: 0.5462 - accuracy: 0.7982 - val_loss: 1.1632 - val_accuracy: 0.6165\n",
      "Epoch 30/30\n",
      "448/448 [==============================] - 218s 487ms/step - loss: 0.5472 - accuracy: 0.8017 - val_loss: 1.1307 - val_accuracy: 0.6187\n"
     ]
    }
   ],
   "source": [
    "emotion_model_info = emotion_model.fit_generator(\n",
    "    train_generator,\n",
    "    steps_per_epoch = 28709//64,\n",
    "    epochs = 30,\n",
    "    validation_data = validation_generator,\n",
    "    validation_steps = 7178//64\n",
    ")"
   ]
  },
  {
   "cell_type": "code",
   "execution_count": 24,
   "metadata": {},
   "outputs": [],
   "source": [
    "model_json = emotion_model.to_json()\n",
    "with open(\"emotion_model2.json\",\"w\") as json_file:\n",
    "    json_file.write(model_json)"
   ]
  },
  {
   "cell_type": "code",
   "execution_count": 25,
   "metadata": {},
   "outputs": [
    {
     "name": "stdout",
     "output_type": "stream",
     "text": [
      "works\n"
     ]
    }
   ],
   "source": [
    "print(\"works\")"
   ]
  },
  {
   "cell_type": "code",
   "execution_count": 26,
   "metadata": {},
   "outputs": [],
   "source": [
    "emotion_model.save_weights(\"emotion_model2.h5\")"
   ]
  }
 ],
 "metadata": {
  "kernelspec": {
   "display_name": "Python 3",
   "language": "python",
   "name": "python3"
  },
  "language_info": {
   "codemirror_mode": {
    "name": "ipython",
    "version": 3
   },
   "file_extension": ".py",
   "mimetype": "text/x-python",
   "name": "python",
   "nbconvert_exporter": "python",
   "pygments_lexer": "ipython3",
   "version": "3.11.5"
  }
 },
 "nbformat": 4,
 "nbformat_minor": 2
}
